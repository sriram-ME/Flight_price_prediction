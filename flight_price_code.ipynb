{
 "cells": [
  {
   "cell_type": "markdown",
   "id": "12d77feb",
   "metadata": {},
   "source": [
    "## Data import and cleanup"
   ]
  },
  {
   "cell_type": "markdown",
   "id": "44dc5cb0",
   "metadata": {},
   "source": [
    "### Import dependencies"
   ]
  },
  {
   "cell_type": "code",
   "execution_count": 1,
   "id": "7457b42f",
   "metadata": {},
   "outputs": [],
   "source": [
    "import numpy as np\n",
    "import pandas as pd\n",
    "from sklearn.preprocessing import LabelEncoder\n",
    "from sklearn.metrics import mean_absolute_error,mean_squared_error,r2_score\n",
    "from sklearn.neighbors import KNeighborsRegressor\n",
    "from sklearn.tree import DecisionTreeRegressor\n",
    "from sklearn.ensemble import RandomForestRegressor\n",
    "from xgboost import XGBRegressor\n",
    "from sklearn.model_selection import train_test_split\n",
    "from sklearn.model_selection import cross_val_score\n",
    "from sklearn.model_selection import KFold\n",
    "import seaborn as sns\n",
    "from matplotlib import pyplot as plt\n",
    "%matplotlib inline"
   ]
  },
  {
   "cell_type": "markdown",
   "id": "da2c27a0",
   "metadata": {},
   "source": [
    "### Fetch data "
   ]
  },
  {
   "cell_type": "code",
   "execution_count": 2,
   "id": "7f692ccc",
   "metadata": {},
   "outputs": [
    {
     "data": {
      "text/html": [
       "<div>\n",
       "<style scoped>\n",
       "    .dataframe tbody tr th:only-of-type {\n",
       "        vertical-align: middle;\n",
       "    }\n",
       "\n",
       "    .dataframe tbody tr th {\n",
       "        vertical-align: top;\n",
       "    }\n",
       "\n",
       "    .dataframe thead th {\n",
       "        text-align: right;\n",
       "    }\n",
       "</style>\n",
       "<table border=\"1\" class=\"dataframe\">\n",
       "  <thead>\n",
       "    <tr style=\"text-align: right;\">\n",
       "      <th></th>\n",
       "      <th>Airline</th>\n",
       "      <th>Date_of_Journey</th>\n",
       "      <th>Source</th>\n",
       "      <th>Destination</th>\n",
       "      <th>Route</th>\n",
       "      <th>Dep_Time</th>\n",
       "      <th>Arrival_Time</th>\n",
       "      <th>Duration</th>\n",
       "      <th>Total_Stops</th>\n",
       "      <th>Additional_Info</th>\n",
       "      <th>Price</th>\n",
       "    </tr>\n",
       "  </thead>\n",
       "  <tbody>\n",
       "    <tr>\n",
       "      <th>0</th>\n",
       "      <td>IndiGo</td>\n",
       "      <td>24/03/2019</td>\n",
       "      <td>Banglore</td>\n",
       "      <td>New Delhi</td>\n",
       "      <td>BLR → DEL</td>\n",
       "      <td>22:20</td>\n",
       "      <td>01:10 22 Mar</td>\n",
       "      <td>2h 50m</td>\n",
       "      <td>non-stop</td>\n",
       "      <td>No info</td>\n",
       "      <td>3897</td>\n",
       "    </tr>\n",
       "    <tr>\n",
       "      <th>1</th>\n",
       "      <td>Air India</td>\n",
       "      <td>1/05/2019</td>\n",
       "      <td>Kolkata</td>\n",
       "      <td>Banglore</td>\n",
       "      <td>CCU → IXR → BBI → BLR</td>\n",
       "      <td>05:50</td>\n",
       "      <td>13:15</td>\n",
       "      <td>7h 25m</td>\n",
       "      <td>2 stops</td>\n",
       "      <td>No info</td>\n",
       "      <td>7662</td>\n",
       "    </tr>\n",
       "    <tr>\n",
       "      <th>2</th>\n",
       "      <td>Jet Airways</td>\n",
       "      <td>9/06/2019</td>\n",
       "      <td>Delhi</td>\n",
       "      <td>Cochin</td>\n",
       "      <td>DEL → LKO → BOM → COK</td>\n",
       "      <td>09:25</td>\n",
       "      <td>04:25 10 Jun</td>\n",
       "      <td>19h</td>\n",
       "      <td>2 stops</td>\n",
       "      <td>No info</td>\n",
       "      <td>13882</td>\n",
       "    </tr>\n",
       "    <tr>\n",
       "      <th>3</th>\n",
       "      <td>IndiGo</td>\n",
       "      <td>12/05/2019</td>\n",
       "      <td>Kolkata</td>\n",
       "      <td>Banglore</td>\n",
       "      <td>CCU → NAG → BLR</td>\n",
       "      <td>18:05</td>\n",
       "      <td>23:30</td>\n",
       "      <td>5h 25m</td>\n",
       "      <td>1 stop</td>\n",
       "      <td>No info</td>\n",
       "      <td>6218</td>\n",
       "    </tr>\n",
       "    <tr>\n",
       "      <th>4</th>\n",
       "      <td>IndiGo</td>\n",
       "      <td>01/03/2019</td>\n",
       "      <td>Banglore</td>\n",
       "      <td>New Delhi</td>\n",
       "      <td>BLR → NAG → DEL</td>\n",
       "      <td>16:50</td>\n",
       "      <td>21:35</td>\n",
       "      <td>4h 45m</td>\n",
       "      <td>1 stop</td>\n",
       "      <td>No info</td>\n",
       "      <td>13302</td>\n",
       "    </tr>\n",
       "  </tbody>\n",
       "</table>\n",
       "</div>"
      ],
      "text/plain": [
       "       Airline Date_of_Journey    Source Destination                  Route  \\\n",
       "0       IndiGo      24/03/2019  Banglore   New Delhi              BLR → DEL   \n",
       "1    Air India       1/05/2019   Kolkata    Banglore  CCU → IXR → BBI → BLR   \n",
       "2  Jet Airways       9/06/2019     Delhi      Cochin  DEL → LKO → BOM → COK   \n",
       "3       IndiGo      12/05/2019   Kolkata    Banglore        CCU → NAG → BLR   \n",
       "4       IndiGo      01/03/2019  Banglore   New Delhi        BLR → NAG → DEL   \n",
       "\n",
       "  Dep_Time  Arrival_Time Duration Total_Stops Additional_Info  Price  \n",
       "0    22:20  01:10 22 Mar   2h 50m    non-stop         No info   3897  \n",
       "1    05:50         13:15   7h 25m     2 stops         No info   7662  \n",
       "2    09:25  04:25 10 Jun      19h     2 stops         No info  13882  \n",
       "3    18:05         23:30   5h 25m      1 stop         No info   6218  \n",
       "4    16:50         21:35   4h 45m      1 stop         No info  13302  "
      ]
     },
     "execution_count": 2,
     "metadata": {},
     "output_type": "execute_result"
    }
   ],
   "source": [
    "flight_df = pd.read_excel('Data_Train.xlsx')\n",
    "flight_df.head()"
   ]
  },
  {
   "cell_type": "markdown",
   "id": "f3f3e197",
   "metadata": {},
   "source": [
    "### Missing Values"
   ]
  },
  {
   "cell_type": "code",
   "execution_count": 3,
   "id": "1ae79738",
   "metadata": {},
   "outputs": [
    {
     "data": {
      "text/plain": [
       "Airline            0\n",
       "Date_of_Journey    0\n",
       "Source             0\n",
       "Destination        0\n",
       "Route              1\n",
       "Dep_Time           0\n",
       "Arrival_Time       0\n",
       "Duration           0\n",
       "Total_Stops        1\n",
       "Additional_Info    0\n",
       "Price              0\n",
       "dtype: int64"
      ]
     },
     "execution_count": 3,
     "metadata": {},
     "output_type": "execute_result"
    }
   ],
   "source": [
    "flight_df.isnull().sum()"
   ]
  },
  {
   "cell_type": "markdown",
   "id": "d9a34908",
   "metadata": {},
   "source": [
    "### Replace missing value in total stops with mode"
   ]
  },
  {
   "cell_type": "code",
   "execution_count": 4,
   "id": "2905d916",
   "metadata": {},
   "outputs": [],
   "source": [
    "flight_df['Total_Stops'] = flight_df['Total_Stops'].fillna(flight_df['Total_Stops'].mode()[0])"
   ]
  },
  {
   "cell_type": "markdown",
   "id": "c221c6b3",
   "metadata": {},
   "source": [
    "### Drop route and additional info (redundant) column"
   ]
  },
  {
   "cell_type": "code",
   "execution_count": 5,
   "id": "349834bc",
   "metadata": {},
   "outputs": [],
   "source": [
    "flight_df.drop(columns=['Route','Additional_Info','Dep_Time','Arrival_Time'],axis=1,inplace=True)"
   ]
  },
  {
   "cell_type": "markdown",
   "id": "c9325791",
   "metadata": {},
   "source": [
    "## Dealing with categorical variables"
   ]
  },
  {
   "cell_type": "markdown",
   "id": "44f1bf99",
   "metadata": {},
   "source": [
    "### Split Date, Month and year of Journey"
   ]
  },
  {
   "cell_type": "code",
   "execution_count": 6,
   "id": "daefa492",
   "metadata": {},
   "outputs": [],
   "source": [
    "flight_df['Date'] = flight_df['Date_of_Journey'].str.split(\"/\").str[0].astype(int)\n",
    "flight_df['Month'] = flight_df['Date_of_Journey'].str.split(\"/\").str[1].astype(int)\n",
    "flight_df['Year'] = flight_df['Date_of_Journey'].str.split(\"/\").str[2].astype(int)\n",
    "flight_df.drop(columns='Date_of_Journey',axis=1,inplace=True)"
   ]
  },
  {
   "cell_type": "markdown",
   "id": "344bd7ec",
   "metadata": {},
   "source": [
    "### Check year redundancy and dropping it"
   ]
  },
  {
   "cell_type": "code",
   "execution_count": 7,
   "id": "88a4b25e",
   "metadata": {},
   "outputs": [],
   "source": [
    "flight_df.drop(columns='Year',axis=1,inplace=True)"
   ]
  },
  {
   "cell_type": "markdown",
   "id": "53bb086d",
   "metadata": {},
   "source": [
    "### Convert Total stops to integer"
   ]
  },
  {
   "cell_type": "code",
   "execution_count": 8,
   "id": "aa8d83af",
   "metadata": {},
   "outputs": [
    {
     "name": "stdout",
     "output_type": "stream",
     "text": [
      "['1 stop', '2 stops', '3 stops', '4 stops', 'non-stop']\n"
     ]
    }
   ],
   "source": [
    "stops_list = flight_df['Total_Stops'].unique().tolist()\n",
    "stops_list.sort()\n",
    "print(stops_list)"
   ]
  },
  {
   "cell_type": "code",
   "execution_count": 9,
   "id": "05391288",
   "metadata": {},
   "outputs": [
    {
     "name": "stdout",
     "output_type": "stream",
     "text": [
      "<class 'pandas.core.frame.DataFrame'>\n",
      "RangeIndex: 10683 entries, 0 to 10682\n",
      "Data columns (total 8 columns):\n",
      " #   Column       Non-Null Count  Dtype \n",
      "---  ------       --------------  ----- \n",
      " 0   Airline      10683 non-null  object\n",
      " 1   Source       10683 non-null  object\n",
      " 2   Destination  10683 non-null  object\n",
      " 3   Duration     10683 non-null  object\n",
      " 4   Total_Stops  10683 non-null  int32 \n",
      " 5   Price        10683 non-null  int64 \n",
      " 6   Date         10683 non-null  int32 \n",
      " 7   Month        10683 non-null  int32 \n",
      "dtypes: int32(3), int64(1), object(4)\n",
      "memory usage: 542.6+ KB\n"
     ]
    }
   ],
   "source": [
    "flight_df['Total_Stops'] = flight_df['Total_Stops'].str.replace('1 stop','1')\n",
    "flight_df['Total_Stops'] = flight_df['Total_Stops'].str.replace('2 stops','2')\n",
    "flight_df['Total_Stops'] = flight_df['Total_Stops'].str.replace('3 stops','3')\n",
    "flight_df['Total_Stops'] = flight_df['Total_Stops'].str.replace('4 stops','4')\n",
    "flight_df['Total_Stops'] = flight_df['Total_Stops'].str.replace('non-stop','0')\n",
    "flight_df['Total_Stops'] = flight_df['Total_Stops'].astype(int)\n",
    "flight_df.info()"
   ]
  },
  {
   "cell_type": "markdown",
   "id": "e848f696",
   "metadata": {},
   "source": [
    "### Convert duration to integer"
   ]
  },
  {
   "cell_type": "code",
   "execution_count": 10,
   "id": "f256f808",
   "metadata": {},
   "outputs": [
    {
     "name": "stderr",
     "output_type": "stream",
     "text": [
      "C:\\Users\\srajend7\\AppData\\Local\\Temp\\ipykernel_21792\\1739961459.py:11: FutureWarning: A value is trying to be set on a copy of a DataFrame or Series through chained assignment using an inplace method.\n",
      "The behavior will change in pandas 3.0. This inplace method will never work because the intermediate object on which we are setting values always behaves as a copy.\n",
      "\n",
      "For example, when doing 'df[col].method(value, inplace=True)', try using 'df.method({col: value}, inplace=True)' or df[col] = df[col].method(value) instead, to perform the operation inplace on the original object.\n",
      "\n",
      "\n",
      "  flight_df['Minutes'].fillna(\"0\",inplace=True)\n"
     ]
    },
    {
     "data": {
      "text/html": [
       "<div>\n",
       "<style scoped>\n",
       "    .dataframe tbody tr th:only-of-type {\n",
       "        vertical-align: middle;\n",
       "    }\n",
       "\n",
       "    .dataframe tbody tr th {\n",
       "        vertical-align: top;\n",
       "    }\n",
       "\n",
       "    .dataframe thead th {\n",
       "        text-align: right;\n",
       "    }\n",
       "</style>\n",
       "<table border=\"1\" class=\"dataframe\">\n",
       "  <thead>\n",
       "    <tr style=\"text-align: right;\">\n",
       "      <th></th>\n",
       "      <th>Airline</th>\n",
       "      <th>Source</th>\n",
       "      <th>Destination</th>\n",
       "      <th>Duration</th>\n",
       "      <th>Total_Stops</th>\n",
       "      <th>Price</th>\n",
       "      <th>Date</th>\n",
       "      <th>Month</th>\n",
       "    </tr>\n",
       "  </thead>\n",
       "  <tbody>\n",
       "    <tr>\n",
       "      <th>0</th>\n",
       "      <td>IndiGo</td>\n",
       "      <td>Banglore</td>\n",
       "      <td>New Delhi</td>\n",
       "      <td>170</td>\n",
       "      <td>0</td>\n",
       "      <td>3897</td>\n",
       "      <td>24</td>\n",
       "      <td>3</td>\n",
       "    </tr>\n",
       "    <tr>\n",
       "      <th>1</th>\n",
       "      <td>Air India</td>\n",
       "      <td>Kolkata</td>\n",
       "      <td>Banglore</td>\n",
       "      <td>445</td>\n",
       "      <td>2</td>\n",
       "      <td>7662</td>\n",
       "      <td>1</td>\n",
       "      <td>5</td>\n",
       "    </tr>\n",
       "    <tr>\n",
       "      <th>2</th>\n",
       "      <td>Jet Airways</td>\n",
       "      <td>Delhi</td>\n",
       "      <td>Cochin</td>\n",
       "      <td>1140</td>\n",
       "      <td>2</td>\n",
       "      <td>13882</td>\n",
       "      <td>9</td>\n",
       "      <td>6</td>\n",
       "    </tr>\n",
       "    <tr>\n",
       "      <th>3</th>\n",
       "      <td>IndiGo</td>\n",
       "      <td>Kolkata</td>\n",
       "      <td>Banglore</td>\n",
       "      <td>325</td>\n",
       "      <td>1</td>\n",
       "      <td>6218</td>\n",
       "      <td>12</td>\n",
       "      <td>5</td>\n",
       "    </tr>\n",
       "    <tr>\n",
       "      <th>4</th>\n",
       "      <td>IndiGo</td>\n",
       "      <td>Banglore</td>\n",
       "      <td>New Delhi</td>\n",
       "      <td>285</td>\n",
       "      <td>1</td>\n",
       "      <td>13302</td>\n",
       "      <td>1</td>\n",
       "      <td>3</td>\n",
       "    </tr>\n",
       "    <tr>\n",
       "      <th>...</th>\n",
       "      <td>...</td>\n",
       "      <td>...</td>\n",
       "      <td>...</td>\n",
       "      <td>...</td>\n",
       "      <td>...</td>\n",
       "      <td>...</td>\n",
       "      <td>...</td>\n",
       "      <td>...</td>\n",
       "    </tr>\n",
       "    <tr>\n",
       "      <th>10678</th>\n",
       "      <td>Air Asia</td>\n",
       "      <td>Kolkata</td>\n",
       "      <td>Banglore</td>\n",
       "      <td>150</td>\n",
       "      <td>0</td>\n",
       "      <td>4107</td>\n",
       "      <td>9</td>\n",
       "      <td>4</td>\n",
       "    </tr>\n",
       "    <tr>\n",
       "      <th>10679</th>\n",
       "      <td>Air India</td>\n",
       "      <td>Kolkata</td>\n",
       "      <td>Banglore</td>\n",
       "      <td>155</td>\n",
       "      <td>0</td>\n",
       "      <td>4145</td>\n",
       "      <td>27</td>\n",
       "      <td>4</td>\n",
       "    </tr>\n",
       "    <tr>\n",
       "      <th>10680</th>\n",
       "      <td>Jet Airways</td>\n",
       "      <td>Banglore</td>\n",
       "      <td>Delhi</td>\n",
       "      <td>180</td>\n",
       "      <td>0</td>\n",
       "      <td>7229</td>\n",
       "      <td>27</td>\n",
       "      <td>4</td>\n",
       "    </tr>\n",
       "    <tr>\n",
       "      <th>10681</th>\n",
       "      <td>Vistara</td>\n",
       "      <td>Banglore</td>\n",
       "      <td>New Delhi</td>\n",
       "      <td>160</td>\n",
       "      <td>0</td>\n",
       "      <td>12648</td>\n",
       "      <td>1</td>\n",
       "      <td>3</td>\n",
       "    </tr>\n",
       "    <tr>\n",
       "      <th>10682</th>\n",
       "      <td>Air India</td>\n",
       "      <td>Delhi</td>\n",
       "      <td>Cochin</td>\n",
       "      <td>500</td>\n",
       "      <td>2</td>\n",
       "      <td>11753</td>\n",
       "      <td>9</td>\n",
       "      <td>5</td>\n",
       "    </tr>\n",
       "  </tbody>\n",
       "</table>\n",
       "<p>10682 rows × 8 columns</p>\n",
       "</div>"
      ],
      "text/plain": [
       "           Airline    Source Destination  Duration  Total_Stops  Price  Date  \\\n",
       "0           IndiGo  Banglore   New Delhi       170            0   3897    24   \n",
       "1        Air India   Kolkata    Banglore       445            2   7662     1   \n",
       "2      Jet Airways     Delhi      Cochin      1140            2  13882     9   \n",
       "3           IndiGo   Kolkata    Banglore       325            1   6218    12   \n",
       "4           IndiGo  Banglore   New Delhi       285            1  13302     1   \n",
       "...            ...       ...         ...       ...          ...    ...   ...   \n",
       "10678     Air Asia   Kolkata    Banglore       150            0   4107     9   \n",
       "10679    Air India   Kolkata    Banglore       155            0   4145    27   \n",
       "10680  Jet Airways  Banglore       Delhi       180            0   7229    27   \n",
       "10681      Vistara  Banglore   New Delhi       160            0  12648     1   \n",
       "10682    Air India     Delhi      Cochin       500            2  11753     9   \n",
       "\n",
       "       Month  \n",
       "0          3  \n",
       "1          5  \n",
       "2          6  \n",
       "3          5  \n",
       "4          3  \n",
       "...      ...  \n",
       "10678      4  \n",
       "10679      4  \n",
       "10680      4  \n",
       "10681      3  \n",
       "10682      5  \n",
       "\n",
       "[10682 rows x 8 columns]"
      ]
     },
     "execution_count": 10,
     "metadata": {},
     "output_type": "execute_result"
    }
   ],
   "source": [
    "# Replace h and m \n",
    "flight_df['Hours'] = flight_df['Duration'].str.split(' ').str[0].str.replace('h','')\n",
    "flight_df['Minutes'] = flight_df['Duration'].str.split(' ').str[1].str.replace('m','')\n",
    "\n",
    "# Find inappropriate values and dropping it\n",
    "flight_df.loc[flight_df['Hours'].str.contains('[A-Za-z]')]\n",
    "row_drop = flight_df.loc[flight_df['Hours'].str.contains('[A-Za-z]')].index\n",
    "flight_df.drop(index = row_drop,inplace=True)\n",
    "\n",
    "# Replace NAN values\n",
    "flight_df['Minutes'].fillna(\"0\",inplace=True)\n",
    "\n",
    "# Convert hours and minutes to integer\n",
    "flight_df['Hours'] = flight_df['Hours'].astype(int)\n",
    "flight_df['Minutes'] = flight_df['Minutes'].astype(int)\n",
    "\n",
    "# Update duration based on hours and minutes\n",
    "flight_df['Duration'] = flight_df['Hours']*60 + flight_df['Minutes']\n",
    "\n",
    "# Drop Hours and Minutes\n",
    "flight_df.drop(columns=['Hours','Minutes'],axis=1)"
   ]
  },
  {
   "cell_type": "markdown",
   "id": "b250da8f",
   "metadata": {},
   "source": [
    "### Label Encoding - Airline,Source and Destination"
   ]
  },
  {
   "cell_type": "code",
   "execution_count": 11,
   "id": "9ca0db0e",
   "metadata": {},
   "outputs": [],
   "source": [
    "# Moving Airline names to a new data frame for EDA\n",
    "new_df = flight_df['Airline'].to_frame()"
   ]
  },
  {
   "cell_type": "code",
   "execution_count": 12,
   "id": "2ab92a9a",
   "metadata": {},
   "outputs": [
    {
     "data": {
      "text/html": [
       "<div>\n",
       "<style scoped>\n",
       "    .dataframe tbody tr th:only-of-type {\n",
       "        vertical-align: middle;\n",
       "    }\n",
       "\n",
       "    .dataframe tbody tr th {\n",
       "        vertical-align: top;\n",
       "    }\n",
       "\n",
       "    .dataframe thead th {\n",
       "        text-align: right;\n",
       "    }\n",
       "</style>\n",
       "<table border=\"1\" class=\"dataframe\">\n",
       "  <thead>\n",
       "    <tr style=\"text-align: right;\">\n",
       "      <th></th>\n",
       "      <th>Source</th>\n",
       "      <th>Destination</th>\n",
       "      <th>Duration</th>\n",
       "      <th>Total_Stops</th>\n",
       "      <th>Price</th>\n",
       "      <th>Date</th>\n",
       "      <th>Month</th>\n",
       "      <th>Hours</th>\n",
       "      <th>Minutes</th>\n",
       "      <th>Airline_encoded</th>\n",
       "    </tr>\n",
       "  </thead>\n",
       "  <tbody>\n",
       "    <tr>\n",
       "      <th>0</th>\n",
       "      <td>0</td>\n",
       "      <td>5</td>\n",
       "      <td>170</td>\n",
       "      <td>0</td>\n",
       "      <td>3897</td>\n",
       "      <td>24</td>\n",
       "      <td>3</td>\n",
       "      <td>2</td>\n",
       "      <td>50</td>\n",
       "      <td>3</td>\n",
       "    </tr>\n",
       "    <tr>\n",
       "      <th>1</th>\n",
       "      <td>3</td>\n",
       "      <td>0</td>\n",
       "      <td>445</td>\n",
       "      <td>2</td>\n",
       "      <td>7662</td>\n",
       "      <td>1</td>\n",
       "      <td>5</td>\n",
       "      <td>7</td>\n",
       "      <td>25</td>\n",
       "      <td>1</td>\n",
       "    </tr>\n",
       "    <tr>\n",
       "      <th>2</th>\n",
       "      <td>2</td>\n",
       "      <td>1</td>\n",
       "      <td>1140</td>\n",
       "      <td>2</td>\n",
       "      <td>13882</td>\n",
       "      <td>9</td>\n",
       "      <td>6</td>\n",
       "      <td>19</td>\n",
       "      <td>0</td>\n",
       "      <td>4</td>\n",
       "    </tr>\n",
       "    <tr>\n",
       "      <th>3</th>\n",
       "      <td>3</td>\n",
       "      <td>0</td>\n",
       "      <td>325</td>\n",
       "      <td>1</td>\n",
       "      <td>6218</td>\n",
       "      <td>12</td>\n",
       "      <td>5</td>\n",
       "      <td>5</td>\n",
       "      <td>25</td>\n",
       "      <td>3</td>\n",
       "    </tr>\n",
       "    <tr>\n",
       "      <th>4</th>\n",
       "      <td>0</td>\n",
       "      <td>5</td>\n",
       "      <td>285</td>\n",
       "      <td>1</td>\n",
       "      <td>13302</td>\n",
       "      <td>1</td>\n",
       "      <td>3</td>\n",
       "      <td>4</td>\n",
       "      <td>45</td>\n",
       "      <td>3</td>\n",
       "    </tr>\n",
       "    <tr>\n",
       "      <th>...</th>\n",
       "      <td>...</td>\n",
       "      <td>...</td>\n",
       "      <td>...</td>\n",
       "      <td>...</td>\n",
       "      <td>...</td>\n",
       "      <td>...</td>\n",
       "      <td>...</td>\n",
       "      <td>...</td>\n",
       "      <td>...</td>\n",
       "      <td>...</td>\n",
       "    </tr>\n",
       "    <tr>\n",
       "      <th>10678</th>\n",
       "      <td>3</td>\n",
       "      <td>0</td>\n",
       "      <td>150</td>\n",
       "      <td>0</td>\n",
       "      <td>4107</td>\n",
       "      <td>9</td>\n",
       "      <td>4</td>\n",
       "      <td>2</td>\n",
       "      <td>30</td>\n",
       "      <td>0</td>\n",
       "    </tr>\n",
       "    <tr>\n",
       "      <th>10679</th>\n",
       "      <td>3</td>\n",
       "      <td>0</td>\n",
       "      <td>155</td>\n",
       "      <td>0</td>\n",
       "      <td>4145</td>\n",
       "      <td>27</td>\n",
       "      <td>4</td>\n",
       "      <td>2</td>\n",
       "      <td>35</td>\n",
       "      <td>1</td>\n",
       "    </tr>\n",
       "    <tr>\n",
       "      <th>10680</th>\n",
       "      <td>0</td>\n",
       "      <td>2</td>\n",
       "      <td>180</td>\n",
       "      <td>0</td>\n",
       "      <td>7229</td>\n",
       "      <td>27</td>\n",
       "      <td>4</td>\n",
       "      <td>3</td>\n",
       "      <td>0</td>\n",
       "      <td>4</td>\n",
       "    </tr>\n",
       "    <tr>\n",
       "      <th>10681</th>\n",
       "      <td>0</td>\n",
       "      <td>5</td>\n",
       "      <td>160</td>\n",
       "      <td>0</td>\n",
       "      <td>12648</td>\n",
       "      <td>1</td>\n",
       "      <td>3</td>\n",
       "      <td>2</td>\n",
       "      <td>40</td>\n",
       "      <td>10</td>\n",
       "    </tr>\n",
       "    <tr>\n",
       "      <th>10682</th>\n",
       "      <td>2</td>\n",
       "      <td>1</td>\n",
       "      <td>500</td>\n",
       "      <td>2</td>\n",
       "      <td>11753</td>\n",
       "      <td>9</td>\n",
       "      <td>5</td>\n",
       "      <td>8</td>\n",
       "      <td>20</td>\n",
       "      <td>1</td>\n",
       "    </tr>\n",
       "  </tbody>\n",
       "</table>\n",
       "<p>10682 rows × 10 columns</p>\n",
       "</div>"
      ],
      "text/plain": [
       "       Source  Destination  Duration  Total_Stops  Price  Date  Month  Hours  \\\n",
       "0           0            5       170            0   3897    24      3      2   \n",
       "1           3            0       445            2   7662     1      5      7   \n",
       "2           2            1      1140            2  13882     9      6     19   \n",
       "3           3            0       325            1   6218    12      5      5   \n",
       "4           0            5       285            1  13302     1      3      4   \n",
       "...       ...          ...       ...          ...    ...   ...    ...    ...   \n",
       "10678       3            0       150            0   4107     9      4      2   \n",
       "10679       3            0       155            0   4145    27      4      2   \n",
       "10680       0            2       180            0   7229    27      4      3   \n",
       "10681       0            5       160            0  12648     1      3      2   \n",
       "10682       2            1       500            2  11753     9      5      8   \n",
       "\n",
       "       Minutes  Airline_encoded  \n",
       "0           50                3  \n",
       "1           25                1  \n",
       "2            0                4  \n",
       "3           25                3  \n",
       "4           45                3  \n",
       "...        ...              ...  \n",
       "10678       30                0  \n",
       "10679       35                1  \n",
       "10680        0                4  \n",
       "10681       40               10  \n",
       "10682       20                1  \n",
       "\n",
       "[10682 rows x 10 columns]"
      ]
     },
     "execution_count": 12,
     "metadata": {},
     "output_type": "execute_result"
    }
   ],
   "source": [
    "lec = LabelEncoder()\n",
    "flight_df['Airline_encoded']=lec.fit_transform(flight_df['Airline'])\n",
    "\n",
    "lec2 = LabelEncoder()\n",
    "flight_df['Source']=lec2.fit_transform(flight_df['Source'])\n",
    "\n",
    "lec3 = LabelEncoder()\n",
    "flight_df['Destination']=lec3.fit_transform(flight_df['Destination'])\n",
    "flight_df.head()\n",
    "\n",
    "flight_df.drop(columns='Airline',axis =1)"
   ]
  },
  {
   "cell_type": "markdown",
   "id": "21aed809",
   "metadata": {},
   "source": [
    "## Exploratory Data Analysis"
   ]
  },
  {
   "cell_type": "markdown",
   "id": "dca4df72",
   "metadata": {},
   "source": [
    "### Most preferred flights "
   ]
  },
  {
   "cell_type": "code",
   "execution_count": 13,
   "id": "a458f29d",
   "metadata": {},
   "outputs": [
    {
     "data": {
      "image/png": "[encoded data removed]",
      "text/plain": [
       "<Figure size 2000x1000 with 1 Axes>"
      ]
     },
     "metadata": {},
     "output_type": "display_data"
    }
   ],
   "source": [
    "plt.figure(figsize=(20,10))\n",
    "sns.countplot(data=flight_df,x=new_df['Airline'],order=flight_df['Airline'].value_counts().index,hue=new_df['Airline'])\n",
    "plt.xlabel('Airlines')\n",
    "plt.xticks(rotation=90)\n",
    "plt.show()"
   ]
  },
  {
   "cell_type": "markdown",
   "id": "2b51be53",
   "metadata": {},
   "source": [
    "### Most Costly flights"
   ]
  },
  {
   "cell_type": "code",
   "execution_count": 14,
   "id": "86219ea0",
   "metadata": {},
   "outputs": [
    {
     "data": {
      "image/png": "[encoded data removed]",
      "text/plain": [
       "<Figure size 1000x500 with 1 Axes>"
      ]
     },
     "metadata": {},
     "output_type": "display_data"
    }
   ],
   "source": [
    "plt.figure(figsize=(10,5))\n",
    "Y = flight_df.groupby('Airline')['Price'].max()\n",
    "Y_sorted = Y.sort_values(ascending=False)\n",
    "X_sorted = Y_sorted.index\n",
    "sns.barplot(x=X_sorted,y=Y_sorted,hue=X_sorted)\n",
    "plt.xticks(rotation=90)\n",
    "plt.show()"
   ]
  },
  {
   "cell_type": "markdown",
   "id": "5497c11b",
   "metadata": {},
   "source": [
    "## ML process"
   ]
  },
  {
   "cell_type": "markdown",
   "id": "2987e04a",
   "metadata": {},
   "source": [
    "### Load an instance of regression models "
   ]
  },
  {
   "cell_type": "code",
   "execution_count": 15,
   "id": "82efb339",
   "metadata": {},
   "outputs": [],
   "source": [
    "KNN = KNeighborsRegressor()\n",
    "DT = DecisionTreeRegressor()\n",
    "RF = RandomForestRegressor()\n",
    "XGB = XGBRegressor()"
   ]
  },
  {
   "cell_type": "markdown",
   "id": "eaa97f45",
   "metadata": {},
   "source": [
    "### Segregating X and Y variables"
   ]
  },
  {
   "cell_type": "code",
   "execution_count": 16,
   "id": "52448ce0",
   "metadata": {},
   "outputs": [],
   "source": [
    "flight_df.drop(columns='Airline',axis=1,inplace=True)"
   ]
  },
  {
   "cell_type": "code",
   "execution_count": 17,
   "id": "0ccce703",
   "metadata": {},
   "outputs": [],
   "source": [
    "# Split depedent and independent variables\n",
    "X = flight_df[[col for col in flight_df.columns if col != 'Price']]\n",
    "Y = flight_df['Price']"
   ]
  },
  {
   "cell_type": "markdown",
   "id": "f01b1e93",
   "metadata": {},
   "source": [
    "### Train test split"
   ]
  },
  {
   "cell_type": "code",
   "execution_count": 18,
   "id": "215963ef",
   "metadata": {},
   "outputs": [],
   "source": [
    "X_train,X_test,Y_train,Y_test = train_test_split(X,Y,test_size=0.2,random_state=42)"
   ]
  },
  {
   "cell_type": "markdown",
   "id": "d56265e5",
   "metadata": {},
   "source": [
    "### Training ML models - Train test split "
   ]
  },
  {
   "cell_type": "code",
   "execution_count": 19,
   "id": "f577e378",
   "metadata": {},
   "outputs": [
    {
     "name": "stdout",
     "output_type": "stream",
     "text": [
      "--------------Training  KNeighborsRegressor ----------------------------\n",
      "mae_train_accuracy  1600.5814862492687\n",
      "mae_test_accuracy 2021.0326626111375\n",
      "r_score_train  0.4998961321935438\n",
      "r_score_test  0.2317243419618149\n",
      "--------------Training  DecisionTreeRegressor ----------------------------\n",
      "mae_train_accuracy  479.1545725388323\n",
      "mae_test_accuracy 1539.8511098141187\n",
      "r_score_train  0.9372462583616417\n",
      "r_score_test  0.6390485817552849\n",
      "--------------Training  RandomForestRegressor ----------------------------\n",
      "mae_train_accuracy  709.5050118060478\n",
      "mae_test_accuracy 1343.5884637391455\n",
      "r_score_train  0.9149725732247814\n",
      "r_score_test  0.7284642564364503\n",
      "--------------Training  XGBRegressor ----------------------------\n",
      "mae_train_accuracy  953.7700820021074\n",
      "mae_test_accuracy 1266.4195922223219\n",
      "r_score_train  0.8817793726921082\n",
      "r_score_test  0.7793614864349365\n"
     ]
    }
   ],
   "source": [
    "ML_models = [KNN,DT,RF,XGB]\n",
    "tt_result_data = []\n",
    "for model in ML_models:\n",
    "    print('--------------Training ',type(model).__name__,'----------------------------')\n",
    "    model.fit(X_train,Y_train)\n",
    "    train_pred = model.predict(X_train)\n",
    "    test_pred = model.predict(X_test)\n",
    "    mae_train = mean_absolute_error(train_pred,Y_train)\n",
    "    mae_test = mean_absolute_error(test_pred,Y_test)\n",
    "    r_score_train = r2_score(train_pred,Y_train)\n",
    "    r_score_test = r2_score(test_pred,Y_test)\n",
    "    print('mae_train_accuracy ',mae_train)\n",
    "    print('mae_test_accuracy', mae_test)\n",
    "    print('r_score_train ',r_score_train)\n",
    "    print('r_score_test ',r_score_test)\n",
    "    tt_result_data.append({'Model': type(model).__name__,'r_score_test': r_score_test})"
   ]
  },
  {
   "cell_type": "markdown",
   "id": "d3ca3ca6",
   "metadata": {},
   "source": [
    "### Training ML models - CV score"
   ]
  },
  {
   "cell_type": "code",
   "execution_count": 21,
   "id": "6d7f35a0",
   "metadata": {},
   "outputs": [
    {
     "name": "stdout",
     "output_type": "stream",
     "text": [
      "--------------Training  KNeighborsRegressor ----------------------------\n",
      "0.5347291318456797\n",
      "--------------Training  DecisionTreeRegressor ----------------------------\n",
      "0.65728261109195\n",
      "--------------Training  RandomForestRegressor ----------------------------\n",
      "0.7665087790408472\n",
      "--------------Training  XGBRegressor ----------------------------\n",
      "0.8118321120738983\n"
     ]
    }
   ],
   "source": [
    "ML_models = [KNN,DT,RF,XGB]\n",
    "cv_result_data = []\n",
    "for model in ML_models:\n",
    "    print('--------------Training ',type(model).__name__,'----------------------------')\n",
    "    rst = cross_val_score(estimator= model,X=X,y=Y,cv=10)\n",
    "    final_rst = np.mean(rst)\n",
    "    print(final_rst)\n",
    "    cv_result_data.append({'cv_score': final_rst})   "
   ]
  },
  {
   "cell_type": "markdown",
   "id": "46779b61",
   "metadata": {},
   "source": [
    "### Training ML model - Kfold"
   ]
  },
  {
   "cell_type": "code",
   "execution_count": 22,
   "id": "7cd141cc",
   "metadata": {},
   "outputs": [
    {
     "name": "stdout",
     "output_type": "stream",
     "text": [
      "--------------Training  KNeighborsRegressor ----------------------------\n",
      "--------------Training  DecisionTreeRegressor ----------------------------\n",
      "--------------Training  RandomForestRegressor ----------------------------\n",
      "--------------Training  XGBRegressor ----------------------------\n"
     ]
    }
   ],
   "source": [
    "kf_result_data =[]\n",
    "kf = KFold(n_splits=10,shuffle=True,random_state=42)\n",
    "X = X.reset_index(drop=True)\n",
    "Y = Y.reset_index(drop=True)\n",
    "for model in ML_models:\n",
    "    print('--------------Training ',type(model).__name__,'----------------------------')\n",
    "    for train_index,test_index in kf.split(X):\n",
    "        X_train,X_test = X.iloc[train_index],X.iloc[test_index]\n",
    "        Y_train,Y_test = Y.iloc[train_index],Y.iloc[test_index]\n",
    "        model.fit(X_train,Y_train)\n",
    "        train_pred = model.predict(X_train)\n",
    "        test_pred = model.predict(X_test)\n",
    "        mae_train = mean_absolute_error(train_pred,Y_train)\n",
    "        mae_test = mean_absolute_error(test_pred,Y_test)\n",
    "        r_score_train = r2_score(train_pred,Y_train)\n",
    "        r_score_test = r2_score(test_pred,Y_test)\n",
    "    kf_result_data.append({'K_r_score_test': np.mean(r_score_test)})"
   ]
  },
  {
   "cell_type": "markdown",
   "id": "99d5479b",
   "metadata": {},
   "source": [
    "### Result data frame"
   ]
  },
  {
   "cell_type": "code",
   "execution_count": 24,
   "id": "98d4b652",
   "metadata": {},
   "outputs": [
    {
     "data": {
      "text/html": [
       "<div>\n",
       "<style scoped>\n",
       "    .dataframe tbody tr th:only-of-type {\n",
       "        vertical-align: middle;\n",
       "    }\n",
       "\n",
       "    .dataframe tbody tr th {\n",
       "        vertical-align: top;\n",
       "    }\n",
       "\n",
       "    .dataframe thead th {\n",
       "        text-align: right;\n",
       "    }\n",
       "</style>\n",
       "<table border=\"1\" class=\"dataframe\">\n",
       "  <thead>\n",
       "    <tr style=\"text-align: right;\">\n",
       "      <th></th>\n",
       "      <th>Model</th>\n",
       "      <th>r_score_test</th>\n",
       "      <th>cv_score</th>\n",
       "      <th>K_r_score_test</th>\n",
       "    </tr>\n",
       "  </thead>\n",
       "  <tbody>\n",
       "    <tr>\n",
       "      <th>0</th>\n",
       "      <td>KNeighborsRegressor</td>\n",
       "      <td>0.231724</td>\n",
       "      <td>0.534729</td>\n",
       "      <td>0.383697</td>\n",
       "    </tr>\n",
       "    <tr>\n",
       "      <th>1</th>\n",
       "      <td>DecisionTreeRegressor</td>\n",
       "      <td>0.639049</td>\n",
       "      <td>0.657283</td>\n",
       "      <td>0.728452</td>\n",
       "    </tr>\n",
       "    <tr>\n",
       "      <th>2</th>\n",
       "      <td>RandomForestRegressor</td>\n",
       "      <td>0.728464</td>\n",
       "      <td>0.766509</td>\n",
       "      <td>0.783237</td>\n",
       "    </tr>\n",
       "    <tr>\n",
       "      <th>3</th>\n",
       "      <td>XGBRegressor</td>\n",
       "      <td>0.779361</td>\n",
       "      <td>0.811832</td>\n",
       "      <td>0.832428</td>\n",
       "    </tr>\n",
       "  </tbody>\n",
       "</table>\n",
       "</div>"
      ],
      "text/plain": [
       "                   Model  r_score_test  cv_score  K_r_score_test\n",
       "0    KNeighborsRegressor      0.231724  0.534729        0.383697\n",
       "1  DecisionTreeRegressor      0.639049  0.657283        0.728452\n",
       "2  RandomForestRegressor      0.728464  0.766509        0.783237\n",
       "3           XGBRegressor      0.779361  0.811832        0.832428"
      ]
     },
     "execution_count": 24,
     "metadata": {},
     "output_type": "execute_result"
    }
   ],
   "source": [
    "df1 = pd.DataFrame(tt_result_data)\n",
    "df2 = pd.DataFrame(cv_result_data)\n",
    "df3 = pd.DataFrame(kf_result_data)\n",
    "final_df = pd.concat([df1,df2,df3],axis=1)\n",
    "final_df"
   ]
  }
 ],
 "metadata": {
  "kernelspec": {
   "display_name": "Python 3",
   "language": "python",
   "name": "python3"
  },
  "language_info": {
   "codemirror_mode": {
    "name": "ipython",
    "version": 3
   },
   "file_extension": ".py",
   "mimetype": "text/x-python",
   "name": "python",
   "nbconvert_exporter": "python",
   "pygments_lexer": "ipython3",
   "version": "3.9.6"
  }
 },
 "nbformat": 4,
 "nbformat_minor": 5
}
